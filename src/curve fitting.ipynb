{
 "cells": [
  {
   "cell_type": "markdown",
   "metadata": {
    "collapsed": false
   },
   "source": [
    "# Opening the files"
   ]
  },
  {
   "cell_type": "code",
   "execution_count": null,
   "metadata": {},
   "outputs": [],
   "source": [
    "import pandas as pd\n",
    "import numpy as np\n",
    "import matplotlib.pyplot as plt\n",
    "import seaborn as sns\n",
    "from mpl_toolkits.axes_grid1 import make_axes_locatable\n",
    "import src.lib.modules as modules\n",
    "import warnings\n",
    "\n",
    "warnings.filterwarnings(\"ignore\")\n",
    "%matplotlib inline\n",
    "np.set_printoptions(precision=5)\n",
    "pd.set_option(\"display.precision\", 5,\n",
    "              'display.max_rows', None,\n",
    "              'display.max_columns', None,\n",
    "              'display.width', None,\n",
    "              'display.max_colwidth', None)\n",
    "# change the colors\n",
    "# plt.style.use('ggplot')\n",
    "plt.style.use('seaborn-whitegrid')\n",
    "\n",
    "# -----------------------------------------------------\n",
    "\n",
    "# NOTE: Defining the columns that we are interested in\n",
    "x = 'Oscillation strain'\n",
    "y = ['Storage modulus', 'Loss modulus', 'Tan(delta)']  # should be a list\n",
    "\n",
    "# -----------------------------------------------------\n",
    "\n",
    "# Defining specific parameters for the plots\n",
    "interested_in = y + [x]\n",
    "DATA_PATH = modules.DATA_PATH\n",
    "snsc = modules.get_color_palette(y)\n",
    "sns.set_palette(snsc)\n",
    "\n",
    "# Opening the files\n",
    "dfs, files, common_name = modules.load_files_df(interested_in=interested_in)\n"
   ]
  },
  {
   "cell_type": "markdown",
   "metadata": {
    "collapsed": false
   },
   "source": [
    "# Curve fitting Storage M.\n",
    "\n",
    "$$\n",
    "f(x) = \\frac{L}{1 + exp(-k * (x - x_0))} + b\n",
    "$$\n",
    "\n",
    "- **L** is responsible for scaling the output range from [0,1] to [0,L]\n",
    "- **b** adds bias to the output and changes its range from [0,L] to [b,L+b]\n",
    "- **k** is responsible for scaling the input, which remains in (-inf,inf)\n",
    "- **x0** is the point in the middle of the Sigmoid, i.e. the point where Sigmoid should originally output the value 1/2\n",
    "if $x=x_0$, we get $$\\frac{1}{1+exp(0)} = 0.5$$"
   ]
  },
  {
   "cell_type": "code",
   "execution_count": null,
   "metadata": {},
   "outputs": [],
   "source": [
    "def sigmoid(x, L, x0, k, b):\n",
    "    y = L / (1 + np.exp(-k * (x - x0))) + b\n",
    "    return (y)\n",
    "\n",
    "\n",
    "filtered_df = av_df[(av_df['Temperature'] > start_point)].copy()\n",
    "x_filtered = filtered_df.loc[:, 'Temperature'].to_numpy().astype(np.float16)\n",
    "y1_filtered = filtered_df.loc[:, 'Storage modulus'].to_numpy().astype(np.float16)\n",
    "\n",
    "y1_log = np.log10(y1_filtered)\n",
    "\n",
    "p0 = [max(y1_filtered), np.median(x_filtered), 1, min(y1_filtered)]\n",
    "\n",
    "popt, pcov = curve_fit(sigmoid, x_filtered, y1_log, p0, method='lm')"
   ]
  },
  {
   "cell_type": "markdown",
   "metadata": {
    "collapsed": false
   },
   "source": [
    "## 5.1. Looking at the fitted curve"
   ]
  },
  {
   "cell_type": "code",
   "execution_count": null,
   "metadata": {},
   "outputs": [],
   "source": [
    "# change the colors\n",
    "plt.style.use('ggplot')\n",
    "plt.style.use('seaborn-paper')\n",
    "plt.style.use('seaborn-whitegrid')\n",
    "\n",
    "L_opt, x0_opt, k_opt, b_opt = popt\n",
    "\n",
    "x_model = np.linspace(min(x_filtered), max(x_filtered), 100)\n",
    "y_model = sigmoid(x_model, L_opt, x0_opt, k_opt, b_opt)\n",
    "\n",
    "fig, ax = plt.subplots(dpi=150)\n",
    "\n",
    "ax.scatter(x_filtered, y1_log, color=sns_blue, marker='o', s=20)\n",
    "ax.plot(x_model, y_model, color=sns_red)\n",
    "\n",
    "plt.show()"
   ]
  },
  {
   "cell_type": "markdown",
   "metadata": {
    "collapsed": false
   },
   "source": [
    "## 5.2. Looking at covariance matrix\n",
    "The diagonals provide the variance of the parameter estimate.\n",
    "One standard deviation errors on the parameters:"
   ]
  },
  {
   "cell_type": "code",
   "execution_count": null,
   "metadata": {},
   "outputs": [],
   "source": [
    "perr = np.sqrt(np.diag(pcov))\n",
    "labels = ['L', 'x0', 'k', 'b']\n",
    "sns.barplot(x=labels, y=perr);"
   ]
  },
  {
   "cell_type": "markdown",
   "metadata": {
    "collapsed": false
   },
   "source": [
    "The result is 4x4 heat map. The main diagonal is related to the error (from top left to bottom right) for L, x0, k, b."
   ]
  },
  {
   "cell_type": "code",
   "execution_count": null,
   "metadata": {},
   "outputs": [],
   "source": [
    "fig, ax = plt.subplots(figsize=[6, 6], dpi=100)\n",
    "\n",
    "ax.grid(which='minor', color='black', linestyle='-', linewidth=1, alpha=1)\n",
    "ax.grid(which='major', alpha=0)\n",
    "\n",
    "im = ax.imshow(error_data := np.log(np.abs(pcov)), cmap=sns.cubehelix_palette(as_cmap=True, reverse=True))\n",
    "# plt.cm.inferno)\n",
    "\n",
    "# Major ticks\n",
    "ax.set_yticks(np.arange(0, 4, 1))\n",
    "ax.set_xticks(np.arange(0, 4, 1))\n",
    "\n",
    "# Labels for major ticks\n",
    "ax.set_yticklabels(labels, fontsize=12)\n",
    "ax.set_xticklabels(labels, fontsize=12)\n",
    "\n",
    "# setting minor ticks for grid\n",
    "ax.set_xticks(np.arange(-.5, 3.5, 1), minor=True, alpha=0)\n",
    "ax.set_yticks(np.arange(-.5, 3.5, 1), minor=True, alpha=0)\n",
    "\n",
    "# Creating a more advanced color map\n",
    "divider = make_axes_locatable(plt.gca())\n",
    "cax = divider.append_axes(\"right\", \"4%\", pad=\"2%\")\n",
    "cbar = plt.colorbar(im, cax=cax)\n",
    "cbar.ax.set_ylabel(ylabel=\"Error\", rotation=90, fontsize=12)\n",
    "cbar.ax.set_yticklabels(labels=np.arange(round(error_data.min(), 1), round(error_data.max(), 1), 0.5), fontsize=12)\n",
    "cbar.minorticks_on()\n",
    "\n",
    "plt.show()\n"
   ]
  }
 ],
 "metadata": {
  "kernelspec": {
   "display_name": "Python 3",
   "language": "python",
   "name": "python3"
  },
  "language_info": {
   "codemirror_mode": {
    "name": "ipython",
    "version": 2
   },
   "file_extension": ".py",
   "mimetype": "text/x-python",
   "name": "python",
   "nbconvert_exporter": "python",
   "pygments_lexer": "ipython2",
   "version": "2.7.6"
  }
 },
 "nbformat": 4,
 "nbformat_minor": 0
}
