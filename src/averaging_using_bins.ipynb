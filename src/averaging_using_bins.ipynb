{
 "cells": [
  {
   "cell_type": "code",
   "execution_count": null,
   "metadata": {
    "ExecuteTime": {
     "end_time": "2023-08-02T16:32:27.572577867Z",
     "start_time": "2023-08-02T16:32:27.530396546Z"
    }
   },
   "outputs": [],
   "source": [
    "import pandas as pd\n",
    "import numpy as np\n",
    "import matplotlib.pyplot as plt\n",
    "import seaborn as sns\n",
    "import src.lib.modules as modules\n",
    "import warnings\n",
    "\n",
    "# Defining specific parameters for the plots\n",
    "warnings.filterwarnings(\"ignore\")\n",
    "%matplotlib inline\n",
    "np.set_printoptions(precision=5)\n",
    "pd.set_option(\"display.precision\", 5,\n",
    "              'display.max_rows', None,\n",
    "              'display.max_columns', None,\n",
    "              'display.width', None,\n",
    "              'display.max_colwidth', None)\n",
    "# change the colors\n",
    "# plt.style.use('ggplot')\n",
    "plt.style.use('seaborn-whitegrid')\n",
    "\n",
    "# -----------------------------------------------------\n",
    "\n",
    "# NOTE: Defining the columns that we are interested in\n",
    "x = 'Oscillation strain'\n",
    "y = ['Storage modulus', 'Loss modulus', 'Tan(delta)']  # should be a list\n",
    "rename_x = x\n",
    "\n",
    "# -----------------------------------------------------\n",
    "\n",
    "try:\n",
    "    assert isinstance(rename_x, str)\n",
    "except NameError:\n",
    "    print(f'The rename_x is not defined, setting as \"{x}\"\\n')\n",
    "    rename_x = x\n",
    "\n",
    "interested_in = y + [x]\n",
    "snsc = modules.get_color_palette(y)\n",
    "sns.set_palette(snsc)\n",
    "# Opening the files\n",
    "dfs, files, common_name = modules.load_files_df(interested_in=interested_in)\n",
    "# Merging the dfs and making the values absolute\n",
    "df_merged = modules.merge_dfs(dfs, files)"
   ]
  },
  {
   "cell_type": "markdown",
   "metadata": {
    "collapsed": false
   },
   "source": [
    "# Looking at the raw data"
   ]
  },
  {
   "cell_type": "code",
   "execution_count": null,
   "metadata": {
    "ExecuteTime": {
     "end_time": "2023-08-02T16:32:32.097850742Z",
     "start_time": "2023-08-02T16:32:27.700551453Z"
    }
   },
   "outputs": [],
   "source": [
    "modules.plot_xy(data=df_merged, x=x, y=y,\n",
    "                log=True,\n",
    "                sep_plots=True,\n",
    "                legend=True,\n",
    "                save_str=f\"raw_{common_name}.png\"\n",
    "                )"
   ]
  },
  {
   "cell_type": "markdown",
   "metadata": {
    "collapsed": false
   },
   "source": [
    "# Calculating the average values\n",
    "Just averaging out the data will account for the random uncertainty in the measurements, but not the systematic uncertainty. To account for the systematic uncertainty, we need to calculate the standard deviation of the data and use it to calculate the standard error."
   ]
  },
  {
   "cell_type": "code",
   "execution_count": null,
   "metadata": {
    "ExecuteTime": {
     "end_time": "2023-08-02T16:34:01.662203451Z",
     "start_time": "2023-08-02T16:33:57.597545285Z"
    }
   },
   "outputs": [],
   "source": [
    "# lower numbers means more noise\n",
    "step = 40\n",
    "\n",
    "bins = modules.create_bins(data=df_merged, x=x, step=step, ratios=None)\n",
    "final_df = modules.av_stderr(df=df_merged, bins=bins, x=x, y=y,\n",
    "                             rename_x=rename_x,\n",
    "                             save_str=f\"average_{common_name}__{step}_steps_averaging.xlsx\"\n",
    "                             )\n",
    "\n",
    "# temporary looking at the result to see if everything is ok\n",
    "modules.plot_xy(data=final_df, x=rename_x, y=y,\n",
    "                error=True,\n",
    "                sep_plots=True,\n",
    "                log=True,\n",
    "                save_str=f\"average_{common_name}__{step}_steps_averaging.png\"\n",
    "                )\n"
   ]
  }
 ],
 "metadata": {
  "kernelspec": {
   "display_name": "Python 3",
   "language": "python",
   "name": "python3"
  },
  "language_info": {
   "codemirror_mode": {
    "name": "ipython",
    "version": 2
   },
   "file_extension": ".py",
   "mimetype": "text/x-python",
   "name": "python",
   "nbconvert_exporter": "python",
   "pygments_lexer": "ipython2",
   "version": "2.7.6"
  }
 },
 "nbformat": 4,
 "nbformat_minor": 0
}
